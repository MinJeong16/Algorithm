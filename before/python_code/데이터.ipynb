{
 "cells": [
  {
   "cell_type": "code",
   "execution_count": 4,
   "metadata": {
    "collapsed": true
   },
   "outputs": [],
   "source": [
    "import pandas as pd"
   ]
  },
  {
   "cell_type": "code",
   "execution_count": 5,
   "outputs": [
    {
     "data": {
      "text/plain": "   period     catl    catm age gender sido sigungu         cgi\n0  201901  건강/의료용품  건강관리용품  20      F   서울     관악구  115.374642\n1  201901  건강/의료용품  건강관리용품  20      F   서울     광진구  119.596454\n2  201901  건강/의료용품  건강관리용품  20      F   서울     도봉구  156.992847\n3  201901  건강/의료용품  건강관리용품  20      F   서울     동작구   58.342726\n4  201901  건강/의료용품  건강관리용품  20      F   서울     마포구  145.147595",
      "text/html": "<div>\n<style scoped>\n    .dataframe tbody tr th:only-of-type {\n        vertical-align: middle;\n    }\n\n    .dataframe tbody tr th {\n        vertical-align: top;\n    }\n\n    .dataframe thead th {\n        text-align: right;\n    }\n</style>\n<table border=\"1\" class=\"dataframe\">\n  <thead>\n    <tr style=\"text-align: right;\">\n      <th></th>\n      <th>period</th>\n      <th>catl</th>\n      <th>catm</th>\n      <th>age</th>\n      <th>gender</th>\n      <th>sido</th>\n      <th>sigungu</th>\n      <th>cgi</th>\n    </tr>\n  </thead>\n  <tbody>\n    <tr>\n      <th>0</th>\n      <td>201901</td>\n      <td>건강/의료용품</td>\n      <td>건강관리용품</td>\n      <td>20</td>\n      <td>F</td>\n      <td>서울</td>\n      <td>관악구</td>\n      <td>115.374642</td>\n    </tr>\n    <tr>\n      <th>1</th>\n      <td>201901</td>\n      <td>건강/의료용품</td>\n      <td>건강관리용품</td>\n      <td>20</td>\n      <td>F</td>\n      <td>서울</td>\n      <td>광진구</td>\n      <td>119.596454</td>\n    </tr>\n    <tr>\n      <th>2</th>\n      <td>201901</td>\n      <td>건강/의료용품</td>\n      <td>건강관리용품</td>\n      <td>20</td>\n      <td>F</td>\n      <td>서울</td>\n      <td>도봉구</td>\n      <td>156.992847</td>\n    </tr>\n    <tr>\n      <th>3</th>\n      <td>201901</td>\n      <td>건강/의료용품</td>\n      <td>건강관리용품</td>\n      <td>20</td>\n      <td>F</td>\n      <td>서울</td>\n      <td>동작구</td>\n      <td>58.342726</td>\n    </tr>\n    <tr>\n      <th>4</th>\n      <td>201901</td>\n      <td>건강/의료용품</td>\n      <td>건강관리용품</td>\n      <td>20</td>\n      <td>F</td>\n      <td>서울</td>\n      <td>마포구</td>\n      <td>145.147595</td>\n    </tr>\n  </tbody>\n</table>\n</div>"
     },
     "execution_count": 5,
     "metadata": {},
     "output_type": "execute_result"
    }
   ],
   "source": [
    "index = pd.read_csv('C:/Users/mgmgj/Desktop/Minjeong/dacon/dacon/index.csv')\n",
    "index.head()"
   ],
   "metadata": {
    "collapsed": false,
    "pycharm": {
     "name": "#%%\n"
    }
   }
  },
  {
   "cell_type": "code",
   "execution_count": null,
   "outputs": [],
   "source": [
    "\n"
   ],
   "metadata": {
    "collapsed": false,
    "pycharm": {
     "name": "#%%\n"
    }
   }
  }
 ],
 "metadata": {
  "kernelspec": {
   "display_name": "Python 3",
   "language": "python",
   "name": "python3"
  },
  "language_info": {
   "codemirror_mode": {
    "name": "ipython",
    "version": 2
   },
   "file_extension": ".py",
   "mimetype": "text/x-python",
   "name": "python",
   "nbconvert_exporter": "python",
   "pygments_lexer": "ipython2",
   "version": "2.7.6"
  }
 },
 "nbformat": 4,
 "nbformat_minor": 0
}